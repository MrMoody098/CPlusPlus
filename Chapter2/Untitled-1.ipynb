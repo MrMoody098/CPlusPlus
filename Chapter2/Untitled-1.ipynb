{
 "cells": [
  {
   "cell_type": "code",
   "execution_count": 6,
   "metadata": {},
   "outputs": [],
   "source": [
    "import turtle\n",
    "\n",
    "# Create a turtle object\n",
    "t = turtle.Turtle()\n",
    "\n",
    "# Move the turtle forward\n",
    "t.forward(100)\n",
    "\n",
    "# Rotate the turtle left\n",
    "t.left(90)\n",
    "\n",
    "# Move the turtle forward again\n",
    "t.forward(100)\n",
    "\n",
    "# Rotate the turtle right\n",
    "t.right(90)\n",
    "\n",
    "# Move the turtle forward one more time\n",
    "t.forward(100)\n",
    "\n",
    "# Close the turtle graphics window\n",
    "turtle.done()\n"
   ]
  }
 ],
 "metadata": {
  "kernelspec": {
   "display_name": "base",
   "language": "python",
   "name": "python3"
  },
  "language_info": {
   "codemirror_mode": {
    "name": "ipython",
    "version": 3
   },
   "file_extension": ".py",
   "mimetype": "text/x-python",
   "name": "python",
   "nbconvert_exporter": "python",
   "pygments_lexer": "ipython3",
   "version": "3.11.8"
  }
 },
 "nbformat": 4,
 "nbformat_minor": 2
}
